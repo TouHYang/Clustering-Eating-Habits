{
 "cells": [
  {
   "cell_type": "code",
   "execution_count": 1,
   "id": "cdfae3ac",
   "metadata": {},
   "outputs": [],
   "source": [
    "import pandas as pd\n",
    "import matplotlib.pyplot as plt\n",
    "import seaborn as sns\n",
    "from sklearn.preprocessing import StandardScaler\n",
    "from sklearn.decomposition import PCA\n",
    "from sklearn.cluster import KMeans"
   ]
  },
  {
   "cell_type": "code",
   "execution_count": 2,
   "id": "ef9d587f",
   "metadata": {},
   "outputs": [],
   "source": [
    "\n",
    "df = pd.read_csv('food_coded.csv', encoding=\"ISO-8859-1\")"
   ]
  },
  {
   "cell_type": "code",
   "execution_count": 3,
   "id": "ef93f1a6",
   "metadata": {},
   "outputs": [
    {
     "data": {
      "text/plain": [
       "<bound method NDFrame.head of      Gender  breakfast  calories_chicken  calories_day  calories_scone  \\\n",
       "0         2          1               430             0             315   \n",
       "1         1          1               610             3             420   \n",
       "2         1          1               720             4             420   \n",
       "3         1          1               430             3             420   \n",
       "4         1          1               720             2             420   \n",
       "..      ...        ...               ...           ...             ...   \n",
       "120       1          1               610             4             420   \n",
       "121       1          1               265             2             315   \n",
       "122       1          1               720             0             420   \n",
       "123       2          1               720             4             420   \n",
       "124       1          1               430             0             315   \n",
       "\n",
       "     coffee  comfort_food_reasons_coded  cook  comfort_food_reasons_coded.1  \\\n",
       "0         1                           9     2                             9   \n",
       "1         2                           1     3                             1   \n",
       "2         2                           1     1                             1   \n",
       "3         2                           2     2                             2   \n",
       "4         2                           1     1                             1   \n",
       "..      ...                         ...   ...                           ...   \n",
       "120       2                           0     3                             2   \n",
       "121       2                           0     3                             3   \n",
       "122       1                           0     3                             3   \n",
       "123       1                           0     3                             7   \n",
       "124       2                           0     0                             5   \n",
       "\n",
       "     cuisine  ...  self_perception_weight  soup  sports  thai_food  \\\n",
       "0          0  ...                       3     1       1          1   \n",
       "1          1  ...                       3     1       1          2   \n",
       "2          3  ...                       6     1       2          5   \n",
       "3          2  ...                       5     1       2          5   \n",
       "4          2  ...                       4     1       1          4   \n",
       "..       ...  ...                     ...   ...     ...        ...   \n",
       "120        1  ...                       4     1       1          5   \n",
       "121        0  ...                       4     1       0          4   \n",
       "122        0  ...                       4     1       2          5   \n",
       "123        1  ...                       2     2       2          1   \n",
       "124        3  ...                       3     1       2          2   \n",
       "\n",
       "     tortilla_calories  turkey_calories  veggies_day  vitamins  \\\n",
       "0                 1165              345            5         1   \n",
       "1                  725              690            4         2   \n",
       "2                 1165              500            5         1   \n",
       "3                  725              690            3         1   \n",
       "4                  940              500            4         2   \n",
       "..                 ...              ...          ...       ...   \n",
       "120                940              500            5         1   \n",
       "121                940              500            5         2   \n",
       "122                580              690            4         2   \n",
       "123                940              500            3         1   \n",
       "124                725              345            4         2   \n",
       "\n",
       "     waffle_calories  weight  \n",
       "0               1315     187  \n",
       "1                900     155  \n",
       "2                900       0  \n",
       "3               1315       0  \n",
       "4                760     190  \n",
       "..               ...     ...  \n",
       "120             1315     156  \n",
       "121             1315     180  \n",
       "122             1315     120  \n",
       "123             1315     135  \n",
       "124              575     135  \n",
       "\n",
       "[125 rows x 46 columns]>"
      ]
     },
     "execution_count": 3,
     "metadata": {},
     "output_type": "execute_result"
    }
   ],
   "source": [
    "df.head"
   ]
  },
  {
   "cell_type": "code",
   "execution_count": 10,
   "id": "f3680f6f",
   "metadata": {},
   "outputs": [
    {
     "data": {
      "text/plain": [
       "(125, 46)"
      ]
     },
     "execution_count": 10,
     "metadata": {},
     "output_type": "execute_result"
    }
   ],
   "source": [
    "df.shape"
   ]
  },
  {
   "cell_type": "code",
   "execution_count": 4,
   "id": "a312ac44",
   "metadata": {},
   "outputs": [],
   "source": [
    "df = pd.DataFrame(df)"
   ]
  },
  {
   "cell_type": "code",
   "execution_count": 5,
   "id": "fa7bc525",
   "metadata": {},
   "outputs": [
    {
     "data": {
      "text/html": [
       "<div>\n",
       "<style scoped>\n",
       "    .dataframe tbody tr th:only-of-type {\n",
       "        vertical-align: middle;\n",
       "    }\n",
       "\n",
       "    .dataframe tbody tr th {\n",
       "        vertical-align: top;\n",
       "    }\n",
       "\n",
       "    .dataframe thead th {\n",
       "        text-align: right;\n",
       "    }\n",
       "</style>\n",
       "<table border=\"1\" class=\"dataframe\">\n",
       "  <thead>\n",
       "    <tr style=\"text-align: right;\">\n",
       "      <th></th>\n",
       "      <th>Gender</th>\n",
       "      <th>breakfast</th>\n",
       "      <th>calories_chicken</th>\n",
       "      <th>calories_day</th>\n",
       "      <th>calories_scone</th>\n",
       "      <th>coffee</th>\n",
       "      <th>comfort_food_reasons_coded</th>\n",
       "      <th>cook</th>\n",
       "      <th>comfort_food_reasons_coded.1</th>\n",
       "      <th>cuisine</th>\n",
       "      <th>...</th>\n",
       "      <th>self_perception_weight</th>\n",
       "      <th>soup</th>\n",
       "      <th>sports</th>\n",
       "      <th>thai_food</th>\n",
       "      <th>tortilla_calories</th>\n",
       "      <th>turkey_calories</th>\n",
       "      <th>veggies_day</th>\n",
       "      <th>vitamins</th>\n",
       "      <th>waffle_calories</th>\n",
       "      <th>weight</th>\n",
       "    </tr>\n",
       "  </thead>\n",
       "  <tbody>\n",
       "    <tr>\n",
       "      <th>0</th>\n",
       "      <td>2</td>\n",
       "      <td>1</td>\n",
       "      <td>430</td>\n",
       "      <td>0</td>\n",
       "      <td>315</td>\n",
       "      <td>1</td>\n",
       "      <td>9</td>\n",
       "      <td>2</td>\n",
       "      <td>9</td>\n",
       "      <td>0</td>\n",
       "      <td>...</td>\n",
       "      <td>3</td>\n",
       "      <td>1</td>\n",
       "      <td>1</td>\n",
       "      <td>1</td>\n",
       "      <td>1165</td>\n",
       "      <td>345</td>\n",
       "      <td>5</td>\n",
       "      <td>1</td>\n",
       "      <td>1315</td>\n",
       "      <td>187</td>\n",
       "    </tr>\n",
       "    <tr>\n",
       "      <th>1</th>\n",
       "      <td>1</td>\n",
       "      <td>1</td>\n",
       "      <td>610</td>\n",
       "      <td>3</td>\n",
       "      <td>420</td>\n",
       "      <td>2</td>\n",
       "      <td>1</td>\n",
       "      <td>3</td>\n",
       "      <td>1</td>\n",
       "      <td>1</td>\n",
       "      <td>...</td>\n",
       "      <td>3</td>\n",
       "      <td>1</td>\n",
       "      <td>1</td>\n",
       "      <td>2</td>\n",
       "      <td>725</td>\n",
       "      <td>690</td>\n",
       "      <td>4</td>\n",
       "      <td>2</td>\n",
       "      <td>900</td>\n",
       "      <td>155</td>\n",
       "    </tr>\n",
       "    <tr>\n",
       "      <th>2</th>\n",
       "      <td>1</td>\n",
       "      <td>1</td>\n",
       "      <td>720</td>\n",
       "      <td>4</td>\n",
       "      <td>420</td>\n",
       "      <td>2</td>\n",
       "      <td>1</td>\n",
       "      <td>1</td>\n",
       "      <td>1</td>\n",
       "      <td>3</td>\n",
       "      <td>...</td>\n",
       "      <td>6</td>\n",
       "      <td>1</td>\n",
       "      <td>2</td>\n",
       "      <td>5</td>\n",
       "      <td>1165</td>\n",
       "      <td>500</td>\n",
       "      <td>5</td>\n",
       "      <td>1</td>\n",
       "      <td>900</td>\n",
       "      <td>0</td>\n",
       "    </tr>\n",
       "    <tr>\n",
       "      <th>3</th>\n",
       "      <td>1</td>\n",
       "      <td>1</td>\n",
       "      <td>430</td>\n",
       "      <td>3</td>\n",
       "      <td>420</td>\n",
       "      <td>2</td>\n",
       "      <td>2</td>\n",
       "      <td>2</td>\n",
       "      <td>2</td>\n",
       "      <td>2</td>\n",
       "      <td>...</td>\n",
       "      <td>5</td>\n",
       "      <td>1</td>\n",
       "      <td>2</td>\n",
       "      <td>5</td>\n",
       "      <td>725</td>\n",
       "      <td>690</td>\n",
       "      <td>3</td>\n",
       "      <td>1</td>\n",
       "      <td>1315</td>\n",
       "      <td>0</td>\n",
       "    </tr>\n",
       "    <tr>\n",
       "      <th>4</th>\n",
       "      <td>1</td>\n",
       "      <td>1</td>\n",
       "      <td>720</td>\n",
       "      <td>2</td>\n",
       "      <td>420</td>\n",
       "      <td>2</td>\n",
       "      <td>1</td>\n",
       "      <td>1</td>\n",
       "      <td>1</td>\n",
       "      <td>2</td>\n",
       "      <td>...</td>\n",
       "      <td>4</td>\n",
       "      <td>1</td>\n",
       "      <td>1</td>\n",
       "      <td>4</td>\n",
       "      <td>940</td>\n",
       "      <td>500</td>\n",
       "      <td>4</td>\n",
       "      <td>2</td>\n",
       "      <td>760</td>\n",
       "      <td>190</td>\n",
       "    </tr>\n",
       "    <tr>\n",
       "      <th>...</th>\n",
       "      <td>...</td>\n",
       "      <td>...</td>\n",
       "      <td>...</td>\n",
       "      <td>...</td>\n",
       "      <td>...</td>\n",
       "      <td>...</td>\n",
       "      <td>...</td>\n",
       "      <td>...</td>\n",
       "      <td>...</td>\n",
       "      <td>...</td>\n",
       "      <td>...</td>\n",
       "      <td>...</td>\n",
       "      <td>...</td>\n",
       "      <td>...</td>\n",
       "      <td>...</td>\n",
       "      <td>...</td>\n",
       "      <td>...</td>\n",
       "      <td>...</td>\n",
       "      <td>...</td>\n",
       "      <td>...</td>\n",
       "      <td>...</td>\n",
       "    </tr>\n",
       "    <tr>\n",
       "      <th>120</th>\n",
       "      <td>1</td>\n",
       "      <td>1</td>\n",
       "      <td>610</td>\n",
       "      <td>4</td>\n",
       "      <td>420</td>\n",
       "      <td>2</td>\n",
       "      <td>0</td>\n",
       "      <td>3</td>\n",
       "      <td>2</td>\n",
       "      <td>1</td>\n",
       "      <td>...</td>\n",
       "      <td>4</td>\n",
       "      <td>1</td>\n",
       "      <td>1</td>\n",
       "      <td>5</td>\n",
       "      <td>940</td>\n",
       "      <td>500</td>\n",
       "      <td>5</td>\n",
       "      <td>1</td>\n",
       "      <td>1315</td>\n",
       "      <td>156</td>\n",
       "    </tr>\n",
       "    <tr>\n",
       "      <th>121</th>\n",
       "      <td>1</td>\n",
       "      <td>1</td>\n",
       "      <td>265</td>\n",
       "      <td>2</td>\n",
       "      <td>315</td>\n",
       "      <td>2</td>\n",
       "      <td>0</td>\n",
       "      <td>3</td>\n",
       "      <td>3</td>\n",
       "      <td>0</td>\n",
       "      <td>...</td>\n",
       "      <td>4</td>\n",
       "      <td>1</td>\n",
       "      <td>0</td>\n",
       "      <td>4</td>\n",
       "      <td>940</td>\n",
       "      <td>500</td>\n",
       "      <td>5</td>\n",
       "      <td>2</td>\n",
       "      <td>1315</td>\n",
       "      <td>180</td>\n",
       "    </tr>\n",
       "    <tr>\n",
       "      <th>122</th>\n",
       "      <td>1</td>\n",
       "      <td>1</td>\n",
       "      <td>720</td>\n",
       "      <td>0</td>\n",
       "      <td>420</td>\n",
       "      <td>1</td>\n",
       "      <td>0</td>\n",
       "      <td>3</td>\n",
       "      <td>3</td>\n",
       "      <td>0</td>\n",
       "      <td>...</td>\n",
       "      <td>4</td>\n",
       "      <td>1</td>\n",
       "      <td>2</td>\n",
       "      <td>5</td>\n",
       "      <td>580</td>\n",
       "      <td>690</td>\n",
       "      <td>4</td>\n",
       "      <td>2</td>\n",
       "      <td>1315</td>\n",
       "      <td>120</td>\n",
       "    </tr>\n",
       "    <tr>\n",
       "      <th>123</th>\n",
       "      <td>2</td>\n",
       "      <td>1</td>\n",
       "      <td>720</td>\n",
       "      <td>4</td>\n",
       "      <td>420</td>\n",
       "      <td>1</td>\n",
       "      <td>0</td>\n",
       "      <td>3</td>\n",
       "      <td>7</td>\n",
       "      <td>1</td>\n",
       "      <td>...</td>\n",
       "      <td>2</td>\n",
       "      <td>2</td>\n",
       "      <td>2</td>\n",
       "      <td>1</td>\n",
       "      <td>940</td>\n",
       "      <td>500</td>\n",
       "      <td>3</td>\n",
       "      <td>1</td>\n",
       "      <td>1315</td>\n",
       "      <td>135</td>\n",
       "    </tr>\n",
       "    <tr>\n",
       "      <th>124</th>\n",
       "      <td>1</td>\n",
       "      <td>1</td>\n",
       "      <td>430</td>\n",
       "      <td>0</td>\n",
       "      <td>315</td>\n",
       "      <td>2</td>\n",
       "      <td>0</td>\n",
       "      <td>0</td>\n",
       "      <td>5</td>\n",
       "      <td>3</td>\n",
       "      <td>...</td>\n",
       "      <td>3</td>\n",
       "      <td>1</td>\n",
       "      <td>2</td>\n",
       "      <td>2</td>\n",
       "      <td>725</td>\n",
       "      <td>345</td>\n",
       "      <td>4</td>\n",
       "      <td>2</td>\n",
       "      <td>575</td>\n",
       "      <td>135</td>\n",
       "    </tr>\n",
       "  </tbody>\n",
       "</table>\n",
       "<p>125 rows × 46 columns</p>\n",
       "</div>"
      ],
      "text/plain": [
       "     Gender  breakfast  calories_chicken  calories_day  calories_scone  \\\n",
       "0         2          1               430             0             315   \n",
       "1         1          1               610             3             420   \n",
       "2         1          1               720             4             420   \n",
       "3         1          1               430             3             420   \n",
       "4         1          1               720             2             420   \n",
       "..      ...        ...               ...           ...             ...   \n",
       "120       1          1               610             4             420   \n",
       "121       1          1               265             2             315   \n",
       "122       1          1               720             0             420   \n",
       "123       2          1               720             4             420   \n",
       "124       1          1               430             0             315   \n",
       "\n",
       "     coffee  comfort_food_reasons_coded  cook  comfort_food_reasons_coded.1  \\\n",
       "0         1                           9     2                             9   \n",
       "1         2                           1     3                             1   \n",
       "2         2                           1     1                             1   \n",
       "3         2                           2     2                             2   \n",
       "4         2                           1     1                             1   \n",
       "..      ...                         ...   ...                           ...   \n",
       "120       2                           0     3                             2   \n",
       "121       2                           0     3                             3   \n",
       "122       1                           0     3                             3   \n",
       "123       1                           0     3                             7   \n",
       "124       2                           0     0                             5   \n",
       "\n",
       "     cuisine  ...  self_perception_weight  soup  sports  thai_food  \\\n",
       "0          0  ...                       3     1       1          1   \n",
       "1          1  ...                       3     1       1          2   \n",
       "2          3  ...                       6     1       2          5   \n",
       "3          2  ...                       5     1       2          5   \n",
       "4          2  ...                       4     1       1          4   \n",
       "..       ...  ...                     ...   ...     ...        ...   \n",
       "120        1  ...                       4     1       1          5   \n",
       "121        0  ...                       4     1       0          4   \n",
       "122        0  ...                       4     1       2          5   \n",
       "123        1  ...                       2     2       2          1   \n",
       "124        3  ...                       3     1       2          2   \n",
       "\n",
       "     tortilla_calories  turkey_calories  veggies_day  vitamins  \\\n",
       "0                 1165              345            5         1   \n",
       "1                  725              690            4         2   \n",
       "2                 1165              500            5         1   \n",
       "3                  725              690            3         1   \n",
       "4                  940              500            4         2   \n",
       "..                 ...              ...          ...       ...   \n",
       "120                940              500            5         1   \n",
       "121                940              500            5         2   \n",
       "122                580              690            4         2   \n",
       "123                940              500            3         1   \n",
       "124                725              345            4         2   \n",
       "\n",
       "     waffle_calories  weight  \n",
       "0               1315     187  \n",
       "1                900     155  \n",
       "2                900       0  \n",
       "3               1315       0  \n",
       "4                760     190  \n",
       "..               ...     ...  \n",
       "120             1315     156  \n",
       "121             1315     180  \n",
       "122             1315     120  \n",
       "123             1315     135  \n",
       "124              575     135  \n",
       "\n",
       "[125 rows x 46 columns]"
      ]
     },
     "execution_count": 5,
     "metadata": {},
     "output_type": "execute_result"
    }
   ],
   "source": [
    "df"
   ]
  },
  {
   "cell_type": "code",
   "execution_count": 8,
   "id": "73dae2ec",
   "metadata": {},
   "outputs": [],
   "source": [
    "pca = PCA(n_components = 2)\n",
    "pca_mdl = pca.fit_transform(df)\n",
    "pca_df = pd.DataFrame(pca_mdl)"
   ]
  },
  {
   "cell_type": "code",
   "execution_count": 9,
   "id": "29a34152",
   "metadata": {},
   "outputs": [
    {
     "data": {
      "text/plain": [
       "(125, 2)"
      ]
     },
     "execution_count": 9,
     "metadata": {},
     "output_type": "execute_result"
    }
   ],
   "source": [
    "pca_df.shape"
   ]
  },
  {
   "cell_type": "code",
   "execution_count": 12,
   "id": "8189e812",
   "metadata": {},
   "outputs": [
    {
     "data": {
      "text/plain": [
       "<AxesSubplot:xlabel='0', ylabel='1'>"
      ]
     },
     "execution_count": 12,
     "metadata": {},
     "output_type": "execute_result"
    },
    {
     "data": {
      "image/png": "[encoded data removed]",
      "text/plain": [
       "<Figure size 432x288 with 1 Axes>"
      ]
     },
     "metadata": {
      "needs_background": "light"
     },
     "output_type": "display_data"
    }
   ],
   "source": [
    "sns.scatterplot(x = pca_df[0], y = pca_df[1], hue= df.Gender)"
   ]
  },
  {
   "cell_type": "code",
   "execution_count": 13,
   "id": "8c6c5ff4",
   "metadata": {},
   "outputs": [
    {
     "data": {
      "text/plain": [
       "<AxesSubplot:xlabel='0', ylabel='1'>"
      ]
     },
     "execution_count": 13,
     "metadata": {},
     "output_type": "execute_result"
    },
    {
     "data": {
      "image/png": "[encoded data removed]",
      "text/plain": [
       "<Figure size 432x288 with 1 Axes>"
      ]
     },
     "metadata": {
      "needs_background": "light"
     },
     "output_type": "display_data"
    }
   ],
   "source": [
    "sns.scatterplot(x = pca_df[0], y = pca_df[1], hue= df.calories_day)\n"
   ]
  },
  {
   "cell_type": "code",
   "execution_count": 15,
   "id": "fff649e5",
   "metadata": {},
   "outputs": [],
   "source": [
    "kmeans = KMeans(n_clusters=2, random_state=1).fit(df)\n",
    "y = kmeans.fit_predict(df)"
   ]
  },
  {
   "cell_type": "code",
   "execution_count": 16,
   "id": "8a71dec4",
   "metadata": {},
   "outputs": [
    {
     "data": {
      "text/plain": [
       "<AxesSubplot:xlabel='0', ylabel='1'>"
      ]
     },
     "execution_count": 16,
     "metadata": {},
     "output_type": "execute_result"
    },
    {
     "data": {
      "image/png": "[encoded data removed]",
      "text/plain": [
       "<Figure size 432x288 with 1 Axes>"
      ]
     },
     "metadata": {
      "needs_background": "light"
     },
     "output_type": "display_data"
    }
   ],
   "source": [
    "sns.scatterplot(x = pca_df[0], y = pca_df[1], hue=y)"
   ]
  },
  {
   "cell_type": "code",
   "execution_count": 17,
   "id": "221758c0",
   "metadata": {},
   "outputs": [
    {
     "data": {
      "text/plain": [
       "<seaborn.axisgrid.PairGrid at 0x235dcf9f190>"
      ]
     },
     "execution_count": 17,
     "metadata": {},
     "output_type": "execute_result"
    },
    {
     "data": {
      "image/png": "[encoded data removed]",
      "text/plain": [
       "<Figure size 360x360 with 6 Axes>"
      ]
     },
     "metadata": {
      "needs_background": "light"
     },
     "output_type": "display_data"
    }
   ],
   "source": [
    "sns.pairplot(pca_df)"
   ]
  },
  {
   "cell_type": "code",
   "execution_count": 29,
   "id": "ed310979",
   "metadata": {},
   "outputs": [],
   "source": [
    "kmeans = KMeans(n_clusters=6, max_iter=600, algorithm='auto')\n",
    "fit_result = kmeans.fit(pca_df)\n",
    "preds=kmeans.predict(pca_df)"
   ]
  },
  {
   "cell_type": "code",
   "execution_count": 30,
   "id": "69a91f2f",
   "metadata": {},
   "outputs": [
    {
     "data": {
      "text/plain": [
       "<function matplotlib.pyplot.show(close=None, block=None)>"
      ]
     },
     "execution_count": 30,
     "metadata": {},
     "output_type": "execute_result"
    },
    {
     "data": {
      "image/png": "[encoded data removed]",
      "text/plain": [
       "<Figure size 432x288 with 1 Axes>"
      ]
     },
     "metadata": {
      "needs_background": "light"
     },
     "output_type": "display_data"
    }
   ],
   "source": [
    "plt.scatter(pca_df[0], pca_df[1], c=preds)\n",
    "plt.scatter(kmeans.cluster_centers_[:,0],kmeans.cluster_centers_[:,1],c='red', s=50)\n",
    "plt.show"
   ]
  },
  {
   "cell_type": "code",
   "execution_count": 31,
   "id": "a282b317",
   "metadata": {},
   "outputs": [],
   "source": [
    "kmeans = KMeans(n_clusters=4, max_iter=400, algorithm='auto')\n",
    "fit_result = kmeans.fit(pca_df)\n",
    "preds=kmeans.predict(pca_df)"
   ]
  },
  {
   "cell_type": "code",
   "execution_count": 32,
   "id": "8a4cf2d9",
   "metadata": {},
   "outputs": [
    {
     "data": {
      "text/plain": [
       "<function matplotlib.pyplot.show(close=None, block=None)>"
      ]
     },
     "execution_count": 32,
     "metadata": {},
     "output_type": "execute_result"
    },
    {
     "data": {
      "image/png": "[encoded data removed]",
      "text/plain": [
       "<Figure size 432x288 with 1 Axes>"
      ]
     },
     "metadata": {
      "needs_background": "light"
     },
     "output_type": "display_data"
    }
   ],
   "source": [
    "plt.scatter(pca_df[0], pca_df[1], c=preds)\n",
    "plt.scatter(kmeans.cluster_centers_[:,0],kmeans.cluster_centers_[:,1],c='red', s=50)\n",
    "plt.show"
   ]
  },
  {
   "cell_type": "code",
   "execution_count": null,
   "id": "8a71d82a",
   "metadata": {},
   "outputs": [],
   "source": []
  }
 ],
 "metadata": {
  "kernelspec": {
   "display_name": "Python 3 (ipykernel)",
   "language": "python",
   "name": "python3"
  },
  "language_info": {
   "codemirror_mode": {
    "name": "ipython",
    "version": 3
   },
   "file_extension": ".py",
   "mimetype": "text/x-python",
   "name": "python",
   "nbconvert_exporter": "python",
   "pygments_lexer": "ipython3",
   "version": "3.9.7"
  }
 },
 "nbformat": 4,
 "nbformat_minor": 5
}
